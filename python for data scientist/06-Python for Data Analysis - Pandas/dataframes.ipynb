{
 "cells": [
  {
   "cell_type": "code",
   "execution_count": 1,
   "metadata": {},
   "outputs": [],
   "source": [
    "#main tool while working with pandas"
   ]
  },
  {
   "cell_type": "code",
   "execution_count": 2,
   "metadata": {},
   "outputs": [],
   "source": [
    "import numpy as np"
   ]
  },
  {
   "cell_type": "code",
   "execution_count": 6,
   "metadata": {},
   "outputs": [],
   "source": [
    "import pandas as pd"
   ]
  },
  {
   "cell_type": "code",
   "execution_count": 7,
   "metadata": {},
   "outputs": [],
   "source": [
    "from numpy.random import randn"
   ]
  },
  {
   "cell_type": "code",
   "execution_count": 21,
   "metadata": {},
   "outputs": [],
   "source": [
    "np.random.seed(0)#that make sure we can get the same random number every time\n",
    "#makes the random numbers predictable"
   ]
  },
  {
   "cell_type": "code",
   "execution_count": 40,
   "metadata": {},
   "outputs": [
    {
     "data": {
      "text/plain": [
       "array([0.4359949 , 0.02592623, 0.54966248, 0.43532239])"
      ]
     },
     "execution_count": 40,
     "metadata": {},
     "output_type": "execute_result"
    }
   ],
   "source": [
    "np.random.seed(2);np.random.rand(4)#With the seed reset (every time),\n",
    "#the same set of numbers will appear every time."
   ]
  },
  {
   "cell_type": "code",
   "execution_count": 78,
   "metadata": {},
   "outputs": [],
   "source": [
    "df = pd.DataFrame(randn(5,4), ['A','B','C','D','E'],['Ser1','Ser2','Ser3','Ser4'])"
   ]
  },
  {
   "cell_type": "code",
   "execution_count": 50,
   "metadata": {},
   "outputs": [
    {
     "data": {
      "text/html": [
       "<div>\n",
       "<style scoped>\n",
       "    .dataframe tbody tr th:only-of-type {\n",
       "        vertical-align: middle;\n",
       "    }\n",
       "\n",
       "    .dataframe tbody tr th {\n",
       "        vertical-align: top;\n",
       "    }\n",
       "\n",
       "    .dataframe thead th {\n",
       "        text-align: right;\n",
       "    }\n",
       "</style>\n",
       "<table border=\"1\" class=\"dataframe\">\n",
       "  <thead>\n",
       "    <tr style=\"text-align: right;\">\n",
       "      <th></th>\n",
       "      <th>Ser1</th>\n",
       "      <th>Ser2</th>\n",
       "      <th>Ser3</th>\n",
       "      <th>Ser4</th>\n",
       "    </tr>\n",
       "  </thead>\n",
       "  <tbody>\n",
       "    <tr>\n",
       "      <th>A</th>\n",
       "      <td>-2.040323</td>\n",
       "      <td>0.046256</td>\n",
       "      <td>-0.677676</td>\n",
       "      <td>-1.439439</td>\n",
       "    </tr>\n",
       "    <tr>\n",
       "      <th>B</th>\n",
       "      <td>0.524296</td>\n",
       "      <td>0.735280</td>\n",
       "      <td>-0.653250</td>\n",
       "      <td>0.842456</td>\n",
       "    </tr>\n",
       "    <tr>\n",
       "      <th>C</th>\n",
       "      <td>-0.381516</td>\n",
       "      <td>0.066489</td>\n",
       "      <td>-1.098739</td>\n",
       "      <td>1.584487</td>\n",
       "    </tr>\n",
       "    <tr>\n",
       "      <th>D</th>\n",
       "      <td>-2.659449</td>\n",
       "      <td>-0.091453</td>\n",
       "      <td>0.695120</td>\n",
       "      <td>-2.033467</td>\n",
       "    </tr>\n",
       "    <tr>\n",
       "      <th>E</th>\n",
       "      <td>-0.189469</td>\n",
       "      <td>-0.077219</td>\n",
       "      <td>0.824703</td>\n",
       "      <td>1.248213</td>\n",
       "    </tr>\n",
       "  </tbody>\n",
       "</table>\n",
       "</div>"
      ],
      "text/plain": [
       "       Ser1      Ser2      Ser3      Ser4\n",
       "A -2.040323  0.046256 -0.677676 -1.439439\n",
       "B  0.524296  0.735280 -0.653250  0.842456\n",
       "C -0.381516  0.066489 -1.098739  1.584487\n",
       "D -2.659449 -0.091453  0.695120 -2.033467\n",
       "E -0.189469 -0.077219  0.824703  1.248213"
      ]
     },
     "execution_count": 50,
     "metadata": {},
     "output_type": "execute_result"
    }
   ],
   "source": [
    "df#this contain a banch of series sharing the same index"
   ]
  },
  {
   "cell_type": "code",
   "execution_count": 51,
   "metadata": {},
   "outputs": [
    {
     "data": {
      "text/plain": [
       "A   -2.040323\n",
       "B    0.524296\n",
       "C   -0.381516\n",
       "D   -2.659449\n",
       "E   -0.189469\n",
       "Name: Ser1, dtype: float64"
      ]
     },
     "execution_count": 51,
     "metadata": {},
     "output_type": "execute_result"
    }
   ],
   "source": [
    "df['Ser1']"
   ]
  },
  {
   "cell_type": "code",
   "execution_count": 53,
   "metadata": {},
   "outputs": [
    {
     "data": {
      "text/plain": [
       "pandas.core.series.Series"
      ]
     },
     "execution_count": 53,
     "metadata": {},
     "output_type": "execute_result"
    }
   ],
   "source": [
    "type(df['Ser1'])"
   ]
  },
  {
   "cell_type": "code",
   "execution_count": 54,
   "metadata": {},
   "outputs": [
    {
     "data": {
      "text/plain": [
       "pandas.core.frame.DataFrame"
      ]
     },
     "execution_count": 54,
     "metadata": {},
     "output_type": "execute_result"
    }
   ],
   "source": [
    "type(df)"
   ]
  },
  {
   "cell_type": "code",
   "execution_count": 55,
   "metadata": {},
   "outputs": [
    {
     "data": {
      "text/plain": [
       "A   -2.040323\n",
       "B    0.524296\n",
       "C   -0.381516\n",
       "D   -2.659449\n",
       "E   -0.189469\n",
       "Name: Ser1, dtype: float64"
      ]
     },
     "execution_count": 55,
     "metadata": {},
     "output_type": "execute_result"
    }
   ],
   "source": [
    "df.Ser1#not recommanded"
   ]
  },
  {
   "cell_type": "code",
   "execution_count": 56,
   "metadata": {},
   "outputs": [
    {
     "data": {
      "text/html": [
       "<div>\n",
       "<style scoped>\n",
       "    .dataframe tbody tr th:only-of-type {\n",
       "        vertical-align: middle;\n",
       "    }\n",
       "\n",
       "    .dataframe tbody tr th {\n",
       "        vertical-align: top;\n",
       "    }\n",
       "\n",
       "    .dataframe thead th {\n",
       "        text-align: right;\n",
       "    }\n",
       "</style>\n",
       "<table border=\"1\" class=\"dataframe\">\n",
       "  <thead>\n",
       "    <tr style=\"text-align: right;\">\n",
       "      <th></th>\n",
       "      <th>Ser1</th>\n",
       "      <th>Ser2</th>\n",
       "    </tr>\n",
       "  </thead>\n",
       "  <tbody>\n",
       "    <tr>\n",
       "      <th>A</th>\n",
       "      <td>-2.040323</td>\n",
       "      <td>0.046256</td>\n",
       "    </tr>\n",
       "    <tr>\n",
       "      <th>B</th>\n",
       "      <td>0.524296</td>\n",
       "      <td>0.735280</td>\n",
       "    </tr>\n",
       "    <tr>\n",
       "      <th>C</th>\n",
       "      <td>-0.381516</td>\n",
       "      <td>0.066489</td>\n",
       "    </tr>\n",
       "    <tr>\n",
       "      <th>D</th>\n",
       "      <td>-2.659449</td>\n",
       "      <td>-0.091453</td>\n",
       "    </tr>\n",
       "    <tr>\n",
       "      <th>E</th>\n",
       "      <td>-0.189469</td>\n",
       "      <td>-0.077219</td>\n",
       "    </tr>\n",
       "  </tbody>\n",
       "</table>\n",
       "</div>"
      ],
      "text/plain": [
       "       Ser1      Ser2\n",
       "A -2.040323  0.046256\n",
       "B  0.524296  0.735280\n",
       "C -0.381516  0.066489\n",
       "D -2.659449 -0.091453\n",
       "E -0.189469 -0.077219"
      ]
     },
     "execution_count": 56,
     "metadata": {},
     "output_type": "execute_result"
    }
   ],
   "source": [
    "df[['Ser1','Ser2']]# to get a two column pass the name of it as list"
   ]
  },
  {
   "cell_type": "code",
   "execution_count": 57,
   "metadata": {},
   "outputs": [
    {
     "data": {
      "text/plain": [
       "pandas.core.frame.DataFrame"
      ]
     },
     "execution_count": 57,
     "metadata": {},
     "output_type": "execute_result"
    }
   ],
   "source": [
    "type(df[['Ser1','Ser2']])"
   ]
  },
  {
   "cell_type": "code",
   "execution_count": 59,
   "metadata": {},
   "outputs": [],
   "source": [
    "#df['New'] #this will raise KeyError like dict"
   ]
  },
  {
   "cell_type": "code",
   "execution_count": 75,
   "metadata": {},
   "outputs": [],
   "source": [
    "df['New']=df['Ser1']+df['Ser2']"
   ]
  },
  {
   "cell_type": "code",
   "execution_count": 62,
   "metadata": {},
   "outputs": [
    {
     "data": {
      "text/html": [
       "<div>\n",
       "<style scoped>\n",
       "    .dataframe tbody tr th:only-of-type {\n",
       "        vertical-align: middle;\n",
       "    }\n",
       "\n",
       "    .dataframe tbody tr th {\n",
       "        vertical-align: top;\n",
       "    }\n",
       "\n",
       "    .dataframe thead th {\n",
       "        text-align: right;\n",
       "    }\n",
       "</style>\n",
       "<table border=\"1\" class=\"dataframe\">\n",
       "  <thead>\n",
       "    <tr style=\"text-align: right;\">\n",
       "      <th></th>\n",
       "      <th>Ser1</th>\n",
       "      <th>Ser2</th>\n",
       "      <th>Ser3</th>\n",
       "      <th>Ser4</th>\n",
       "      <th>New</th>\n",
       "    </tr>\n",
       "  </thead>\n",
       "  <tbody>\n",
       "    <tr>\n",
       "      <th>A</th>\n",
       "      <td>-2.040323</td>\n",
       "      <td>0.046256</td>\n",
       "      <td>-0.677676</td>\n",
       "      <td>-1.439439</td>\n",
       "      <td>-1.994068</td>\n",
       "    </tr>\n",
       "    <tr>\n",
       "      <th>B</th>\n",
       "      <td>0.524296</td>\n",
       "      <td>0.735280</td>\n",
       "      <td>-0.653250</td>\n",
       "      <td>0.842456</td>\n",
       "      <td>1.259576</td>\n",
       "    </tr>\n",
       "    <tr>\n",
       "      <th>C</th>\n",
       "      <td>-0.381516</td>\n",
       "      <td>0.066489</td>\n",
       "      <td>-1.098739</td>\n",
       "      <td>1.584487</td>\n",
       "      <td>-0.315027</td>\n",
       "    </tr>\n",
       "    <tr>\n",
       "      <th>D</th>\n",
       "      <td>-2.659449</td>\n",
       "      <td>-0.091453</td>\n",
       "      <td>0.695120</td>\n",
       "      <td>-2.033467</td>\n",
       "      <td>-2.750902</td>\n",
       "    </tr>\n",
       "    <tr>\n",
       "      <th>E</th>\n",
       "      <td>-0.189469</td>\n",
       "      <td>-0.077219</td>\n",
       "      <td>0.824703</td>\n",
       "      <td>1.248213</td>\n",
       "      <td>-0.266688</td>\n",
       "    </tr>\n",
       "  </tbody>\n",
       "</table>\n",
       "</div>"
      ],
      "text/plain": [
       "       Ser1      Ser2      Ser3      Ser4       New\n",
       "A -2.040323  0.046256 -0.677676 -1.439439 -1.994068\n",
       "B  0.524296  0.735280 -0.653250  0.842456  1.259576\n",
       "C -0.381516  0.066489 -1.098739  1.584487 -0.315027\n",
       "D -2.659449 -0.091453  0.695120 -2.033467 -2.750902\n",
       "E -0.189469 -0.077219  0.824703  1.248213 -0.266688"
      ]
     },
     "execution_count": 62,
     "metadata": {},
     "output_type": "execute_result"
    }
   ],
   "source": [
    "df"
   ]
  },
  {
   "cell_type": "code",
   "execution_count": 64,
   "metadata": {},
   "outputs": [
    {
     "data": {
      "text/html": [
       "<div>\n",
       "<style scoped>\n",
       "    .dataframe tbody tr th:only-of-type {\n",
       "        vertical-align: middle;\n",
       "    }\n",
       "\n",
       "    .dataframe tbody tr th {\n",
       "        vertical-align: top;\n",
       "    }\n",
       "\n",
       "    .dataframe thead th {\n",
       "        text-align: right;\n",
       "    }\n",
       "</style>\n",
       "<table border=\"1\" class=\"dataframe\">\n",
       "  <thead>\n",
       "    <tr style=\"text-align: right;\">\n",
       "      <th></th>\n",
       "      <th>Ser1</th>\n",
       "      <th>Ser2</th>\n",
       "      <th>Ser3</th>\n",
       "      <th>Ser4</th>\n",
       "    </tr>\n",
       "  </thead>\n",
       "  <tbody>\n",
       "    <tr>\n",
       "      <th>A</th>\n",
       "      <td>-2.040323</td>\n",
       "      <td>0.046256</td>\n",
       "      <td>-0.677676</td>\n",
       "      <td>-1.439439</td>\n",
       "    </tr>\n",
       "    <tr>\n",
       "      <th>B</th>\n",
       "      <td>0.524296</td>\n",
       "      <td>0.735280</td>\n",
       "      <td>-0.653250</td>\n",
       "      <td>0.842456</td>\n",
       "    </tr>\n",
       "    <tr>\n",
       "      <th>C</th>\n",
       "      <td>-0.381516</td>\n",
       "      <td>0.066489</td>\n",
       "      <td>-1.098739</td>\n",
       "      <td>1.584487</td>\n",
       "    </tr>\n",
       "    <tr>\n",
       "      <th>D</th>\n",
       "      <td>-2.659449</td>\n",
       "      <td>-0.091453</td>\n",
       "      <td>0.695120</td>\n",
       "      <td>-2.033467</td>\n",
       "    </tr>\n",
       "    <tr>\n",
       "      <th>E</th>\n",
       "      <td>-0.189469</td>\n",
       "      <td>-0.077219</td>\n",
       "      <td>0.824703</td>\n",
       "      <td>1.248213</td>\n",
       "    </tr>\n",
       "  </tbody>\n",
       "</table>\n",
       "</div>"
      ],
      "text/plain": [
       "       Ser1      Ser2      Ser3      Ser4\n",
       "A -2.040323  0.046256 -0.677676 -1.439439\n",
       "B  0.524296  0.735280 -0.653250  0.842456\n",
       "C -0.381516  0.066489 -1.098739  1.584487\n",
       "D -2.659449 -0.091453  0.695120 -2.033467\n",
       "E -0.189469 -0.077219  0.824703  1.248213"
      ]
     },
     "execution_count": 64,
     "metadata": {},
     "output_type": "execute_result"
    }
   ],
   "source": [
    "df.drop('New',axis=1)# to remove column axis=1 column and axis=0 for rows"
   ]
  },
  {
   "cell_type": "code",
   "execution_count": 65,
   "metadata": {},
   "outputs": [
    {
     "data": {
      "text/html": [
       "<div>\n",
       "<style scoped>\n",
       "    .dataframe tbody tr th:only-of-type {\n",
       "        vertical-align: middle;\n",
       "    }\n",
       "\n",
       "    .dataframe tbody tr th {\n",
       "        vertical-align: top;\n",
       "    }\n",
       "\n",
       "    .dataframe thead th {\n",
       "        text-align: right;\n",
       "    }\n",
       "</style>\n",
       "<table border=\"1\" class=\"dataframe\">\n",
       "  <thead>\n",
       "    <tr style=\"text-align: right;\">\n",
       "      <th></th>\n",
       "      <th>Ser1</th>\n",
       "      <th>Ser2</th>\n",
       "      <th>Ser3</th>\n",
       "      <th>Ser4</th>\n",
       "      <th>New</th>\n",
       "    </tr>\n",
       "  </thead>\n",
       "  <tbody>\n",
       "    <tr>\n",
       "      <th>A</th>\n",
       "      <td>-2.040323</td>\n",
       "      <td>0.046256</td>\n",
       "      <td>-0.677676</td>\n",
       "      <td>-1.439439</td>\n",
       "      <td>-1.994068</td>\n",
       "    </tr>\n",
       "    <tr>\n",
       "      <th>B</th>\n",
       "      <td>0.524296</td>\n",
       "      <td>0.735280</td>\n",
       "      <td>-0.653250</td>\n",
       "      <td>0.842456</td>\n",
       "      <td>1.259576</td>\n",
       "    </tr>\n",
       "    <tr>\n",
       "      <th>C</th>\n",
       "      <td>-0.381516</td>\n",
       "      <td>0.066489</td>\n",
       "      <td>-1.098739</td>\n",
       "      <td>1.584487</td>\n",
       "      <td>-0.315027</td>\n",
       "    </tr>\n",
       "    <tr>\n",
       "      <th>D</th>\n",
       "      <td>-2.659449</td>\n",
       "      <td>-0.091453</td>\n",
       "      <td>0.695120</td>\n",
       "      <td>-2.033467</td>\n",
       "      <td>-2.750902</td>\n",
       "    </tr>\n",
       "    <tr>\n",
       "      <th>E</th>\n",
       "      <td>-0.189469</td>\n",
       "      <td>-0.077219</td>\n",
       "      <td>0.824703</td>\n",
       "      <td>1.248213</td>\n",
       "      <td>-0.266688</td>\n",
       "    </tr>\n",
       "  </tbody>\n",
       "</table>\n",
       "</div>"
      ],
      "text/plain": [
       "       Ser1      Ser2      Ser3      Ser4       New\n",
       "A -2.040323  0.046256 -0.677676 -1.439439 -1.994068\n",
       "B  0.524296  0.735280 -0.653250  0.842456  1.259576\n",
       "C -0.381516  0.066489 -1.098739  1.584487 -0.315027\n",
       "D -2.659449 -0.091453  0.695120 -2.033467 -2.750902\n",
       "E -0.189469 -0.077219  0.824703  1.248213 -0.266688"
      ]
     },
     "execution_count": 65,
     "metadata": {},
     "output_type": "execute_result"
    }
   ],
   "source": [
    "df#still not delete because we miss using inplace=True to delete it and pandas use it to not loss data"
   ]
  },
  {
   "cell_type": "code",
   "execution_count": 67,
   "metadata": {},
   "outputs": [],
   "source": [
    "df.drop('New',axis=1 ,inplace=True)"
   ]
  },
  {
   "cell_type": "code",
   "execution_count": 68,
   "metadata": {},
   "outputs": [
    {
     "data": {
      "text/html": [
       "<div>\n",
       "<style scoped>\n",
       "    .dataframe tbody tr th:only-of-type {\n",
       "        vertical-align: middle;\n",
       "    }\n",
       "\n",
       "    .dataframe tbody tr th {\n",
       "        vertical-align: top;\n",
       "    }\n",
       "\n",
       "    .dataframe thead th {\n",
       "        text-align: right;\n",
       "    }\n",
       "</style>\n",
       "<table border=\"1\" class=\"dataframe\">\n",
       "  <thead>\n",
       "    <tr style=\"text-align: right;\">\n",
       "      <th></th>\n",
       "      <th>Ser1</th>\n",
       "      <th>Ser2</th>\n",
       "      <th>Ser3</th>\n",
       "      <th>Ser4</th>\n",
       "    </tr>\n",
       "  </thead>\n",
       "  <tbody>\n",
       "    <tr>\n",
       "      <th>A</th>\n",
       "      <td>-2.040323</td>\n",
       "      <td>0.046256</td>\n",
       "      <td>-0.677676</td>\n",
       "      <td>-1.439439</td>\n",
       "    </tr>\n",
       "    <tr>\n",
       "      <th>B</th>\n",
       "      <td>0.524296</td>\n",
       "      <td>0.735280</td>\n",
       "      <td>-0.653250</td>\n",
       "      <td>0.842456</td>\n",
       "    </tr>\n",
       "    <tr>\n",
       "      <th>C</th>\n",
       "      <td>-0.381516</td>\n",
       "      <td>0.066489</td>\n",
       "      <td>-1.098739</td>\n",
       "      <td>1.584487</td>\n",
       "    </tr>\n",
       "    <tr>\n",
       "      <th>D</th>\n",
       "      <td>-2.659449</td>\n",
       "      <td>-0.091453</td>\n",
       "      <td>0.695120</td>\n",
       "      <td>-2.033467</td>\n",
       "    </tr>\n",
       "    <tr>\n",
       "      <th>E</th>\n",
       "      <td>-0.189469</td>\n",
       "      <td>-0.077219</td>\n",
       "      <td>0.824703</td>\n",
       "      <td>1.248213</td>\n",
       "    </tr>\n",
       "  </tbody>\n",
       "</table>\n",
       "</div>"
      ],
      "text/plain": [
       "       Ser1      Ser2      Ser3      Ser4\n",
       "A -2.040323  0.046256 -0.677676 -1.439439\n",
       "B  0.524296  0.735280 -0.653250  0.842456\n",
       "C -0.381516  0.066489 -1.098739  1.584487\n",
       "D -2.659449 -0.091453  0.695120 -2.033467\n",
       "E -0.189469 -0.077219  0.824703  1.248213"
      ]
     },
     "execution_count": 68,
     "metadata": {},
     "output_type": "execute_result"
    }
   ],
   "source": [
    "df# now it deleted"
   ]
  },
  {
   "cell_type": "code",
   "execution_count": 69,
   "metadata": {},
   "outputs": [
    {
     "data": {
      "text/html": [
       "<div>\n",
       "<style scoped>\n",
       "    .dataframe tbody tr th:only-of-type {\n",
       "        vertical-align: middle;\n",
       "    }\n",
       "\n",
       "    .dataframe tbody tr th {\n",
       "        vertical-align: top;\n",
       "    }\n",
       "\n",
       "    .dataframe thead th {\n",
       "        text-align: right;\n",
       "    }\n",
       "</style>\n",
       "<table border=\"1\" class=\"dataframe\">\n",
       "  <thead>\n",
       "    <tr style=\"text-align: right;\">\n",
       "      <th></th>\n",
       "      <th>Ser1</th>\n",
       "      <th>Ser2</th>\n",
       "      <th>Ser3</th>\n",
       "      <th>Ser4</th>\n",
       "    </tr>\n",
       "  </thead>\n",
       "  <tbody>\n",
       "    <tr>\n",
       "      <th>A</th>\n",
       "      <td>-2.040323</td>\n",
       "      <td>0.046256</td>\n",
       "      <td>-0.677676</td>\n",
       "      <td>-1.439439</td>\n",
       "    </tr>\n",
       "    <tr>\n",
       "      <th>B</th>\n",
       "      <td>0.524296</td>\n",
       "      <td>0.735280</td>\n",
       "      <td>-0.653250</td>\n",
       "      <td>0.842456</td>\n",
       "    </tr>\n",
       "    <tr>\n",
       "      <th>C</th>\n",
       "      <td>-0.381516</td>\n",
       "      <td>0.066489</td>\n",
       "      <td>-1.098739</td>\n",
       "      <td>1.584487</td>\n",
       "    </tr>\n",
       "    <tr>\n",
       "      <th>D</th>\n",
       "      <td>-2.659449</td>\n",
       "      <td>-0.091453</td>\n",
       "      <td>0.695120</td>\n",
       "      <td>-2.033467</td>\n",
       "    </tr>\n",
       "  </tbody>\n",
       "</table>\n",
       "</div>"
      ],
      "text/plain": [
       "       Ser1      Ser2      Ser3      Ser4\n",
       "A -2.040323  0.046256 -0.677676 -1.439439\n",
       "B  0.524296  0.735280 -0.653250  0.842456\n",
       "C -0.381516  0.066489 -1.098739  1.584487\n",
       "D -2.659449 -0.091453  0.695120 -2.033467"
      ]
     },
     "execution_count": 69,
     "metadata": {},
     "output_type": "execute_result"
    }
   ],
   "source": [
    "df.drop('E')#we not use axis becuase it default for 0 and this not delete data as real "
   ]
  },
  {
   "cell_type": "code",
   "execution_count": 77,
   "metadata": {},
   "outputs": [
    {
     "data": {
      "text/html": [
       "<div>\n",
       "<style scoped>\n",
       "    .dataframe tbody tr th:only-of-type {\n",
       "        vertical-align: middle;\n",
       "    }\n",
       "\n",
       "    .dataframe tbody tr th {\n",
       "        vertical-align: top;\n",
       "    }\n",
       "\n",
       "    .dataframe thead th {\n",
       "        text-align: right;\n",
       "    }\n",
       "</style>\n",
       "<table border=\"1\" class=\"dataframe\">\n",
       "  <thead>\n",
       "    <tr style=\"text-align: right;\">\n",
       "      <th></th>\n",
       "      <th>Ser1</th>\n",
       "      <th>Ser2</th>\n",
       "      <th>Ser3</th>\n",
       "      <th>Ser4</th>\n",
       "      <th>New</th>\n",
       "    </tr>\n",
       "  </thead>\n",
       "  <tbody>\n",
       "    <tr>\n",
       "      <th>A</th>\n",
       "      <td>-2.040323</td>\n",
       "      <td>0.046256</td>\n",
       "      <td>-0.677676</td>\n",
       "      <td>-1.439439</td>\n",
       "      <td>-1.994068</td>\n",
       "    </tr>\n",
       "    <tr>\n",
       "      <th>B</th>\n",
       "      <td>0.524296</td>\n",
       "      <td>0.735280</td>\n",
       "      <td>-0.653250</td>\n",
       "      <td>0.842456</td>\n",
       "      <td>1.259576</td>\n",
       "    </tr>\n",
       "    <tr>\n",
       "      <th>C</th>\n",
       "      <td>-0.381516</td>\n",
       "      <td>0.066489</td>\n",
       "      <td>-1.098739</td>\n",
       "      <td>1.584487</td>\n",
       "      <td>-0.315027</td>\n",
       "    </tr>\n",
       "    <tr>\n",
       "      <th>D</th>\n",
       "      <td>-2.659449</td>\n",
       "      <td>-0.091453</td>\n",
       "      <td>0.695120</td>\n",
       "      <td>-2.033467</td>\n",
       "      <td>-2.750902</td>\n",
       "    </tr>\n",
       "  </tbody>\n",
       "</table>\n",
       "</div>"
      ],
      "text/plain": [
       "       Ser1      Ser2      Ser3      Ser4       New\n",
       "A -2.040323  0.046256 -0.677676 -1.439439 -1.994068\n",
       "B  0.524296  0.735280 -0.653250  0.842456  1.259576\n",
       "C -0.381516  0.066489 -1.098739  1.584487 -0.315027\n",
       "D -2.659449 -0.091453  0.695120 -2.033467 -2.750902"
      ]
     },
     "execution_count": 77,
     "metadata": {},
     "output_type": "execute_result"
    }
   ],
   "source": [
    "df"
   ]
  },
  {
   "cell_type": "code",
   "execution_count": 71,
   "metadata": {},
   "outputs": [],
   "source": [
    "df.drop('E',axis=0,inplace=True)"
   ]
  },
  {
   "cell_type": "code",
   "execution_count": 79,
   "metadata": {},
   "outputs": [
    {
     "data": {
      "text/plain": [
       "(5, 4)"
      ]
     },
     "execution_count": 79,
     "metadata": {},
     "output_type": "execute_result"
    }
   ],
   "source": [
    "df.shape"
   ]
  },
  {
   "cell_type": "code",
   "execution_count": 80,
   "metadata": {},
   "outputs": [
    {
     "data": {
      "text/plain": [
       "Ser1   -0.403892\n",
       "Ser2   -1.384519\n",
       "Ser3    1.367235\n",
       "Ser4    1.217886\n",
       "Name: A, dtype: float64"
      ]
     },
     "execution_count": 80,
     "metadata": {},
     "output_type": "execute_result"
    }
   ],
   "source": [
    "df.loc['A']# it return series sow column and rows are series and remember to use [] not() :))"
   ]
  },
  {
   "cell_type": "code",
   "execution_count": 81,
   "metadata": {},
   "outputs": [
    {
     "data": {
      "text/plain": [
       "Ser1   -0.403892\n",
       "Ser2   -1.384519\n",
       "Ser3    1.367235\n",
       "Ser4    1.217886\n",
       "Name: A, dtype: float64"
      ]
     },
     "execution_count": 81,
     "metadata": {},
     "output_type": "execute_result"
    }
   ],
   "source": [
    "df.iloc[0]#to locate using index"
   ]
  },
  {
   "cell_type": "code",
   "execution_count": 82,
   "metadata": {},
   "outputs": [
    {
     "data": {
      "text/html": [
       "<div>\n",
       "<style scoped>\n",
       "    .dataframe tbody tr th:only-of-type {\n",
       "        vertical-align: middle;\n",
       "    }\n",
       "\n",
       "    .dataframe tbody tr th {\n",
       "        vertical-align: top;\n",
       "    }\n",
       "\n",
       "    .dataframe thead th {\n",
       "        text-align: right;\n",
       "    }\n",
       "</style>\n",
       "<table border=\"1\" class=\"dataframe\">\n",
       "  <thead>\n",
       "    <tr style=\"text-align: right;\">\n",
       "      <th></th>\n",
       "      <th>Ser1</th>\n",
       "      <th>Ser2</th>\n",
       "      <th>Ser3</th>\n",
       "      <th>Ser4</th>\n",
       "    </tr>\n",
       "  </thead>\n",
       "  <tbody>\n",
       "    <tr>\n",
       "      <th>A</th>\n",
       "      <td>-0.403892</td>\n",
       "      <td>-1.384519</td>\n",
       "      <td>1.367235</td>\n",
       "      <td>1.217886</td>\n",
       "    </tr>\n",
       "    <tr>\n",
       "      <th>B</th>\n",
       "      <td>-0.462005</td>\n",
       "      <td>0.350888</td>\n",
       "      <td>0.381866</td>\n",
       "      <td>0.566275</td>\n",
       "    </tr>\n",
       "    <tr>\n",
       "      <th>C</th>\n",
       "      <td>0.204208</td>\n",
       "      <td>1.406696</td>\n",
       "      <td>-1.737960</td>\n",
       "      <td>1.040824</td>\n",
       "    </tr>\n",
       "    <tr>\n",
       "      <th>D</th>\n",
       "      <td>0.380472</td>\n",
       "      <td>-0.217135</td>\n",
       "      <td>1.173531</td>\n",
       "      <td>-2.343603</td>\n",
       "    </tr>\n",
       "    <tr>\n",
       "      <th>E</th>\n",
       "      <td>1.161521</td>\n",
       "      <td>0.386078</td>\n",
       "      <td>-1.133133</td>\n",
       "      <td>0.433093</td>\n",
       "    </tr>\n",
       "  </tbody>\n",
       "</table>\n",
       "</div>"
      ],
      "text/plain": [
       "       Ser1      Ser2      Ser3      Ser4\n",
       "A -0.403892 -1.384519  1.367235  1.217886\n",
       "B -0.462005  0.350888  0.381866  0.566275\n",
       "C  0.204208  1.406696 -1.737960  1.040824\n",
       "D  0.380472 -0.217135  1.173531 -2.343603\n",
       "E  1.161521  0.386078 -1.133133  0.433093"
      ]
     },
     "execution_count": 82,
     "metadata": {},
     "output_type": "execute_result"
    }
   ],
   "source": [
    "df"
   ]
  },
  {
   "cell_type": "code",
   "execution_count": 83,
   "metadata": {},
   "outputs": [
    {
     "data": {
      "text/plain": [
       "-0.4038922693379395"
      ]
     },
     "execution_count": 83,
     "metadata": {},
     "output_type": "execute_result"
    }
   ],
   "source": [
    "df.loc['A','Ser1']"
   ]
  },
  {
   "cell_type": "code",
   "execution_count": 85,
   "metadata": {},
   "outputs": [
    {
     "data": {
      "text/html": [
       "<div>\n",
       "<style scoped>\n",
       "    .dataframe tbody tr th:only-of-type {\n",
       "        vertical-align: middle;\n",
       "    }\n",
       "\n",
       "    .dataframe tbody tr th {\n",
       "        vertical-align: top;\n",
       "    }\n",
       "\n",
       "    .dataframe thead th {\n",
       "        text-align: right;\n",
       "    }\n",
       "</style>\n",
       "<table border=\"1\" class=\"dataframe\">\n",
       "  <thead>\n",
       "    <tr style=\"text-align: right;\">\n",
       "      <th></th>\n",
       "      <th>Ser1</th>\n",
       "      <th>Ser2</th>\n",
       "    </tr>\n",
       "  </thead>\n",
       "  <tbody>\n",
       "    <tr>\n",
       "      <th>A</th>\n",
       "      <td>-0.403892</td>\n",
       "      <td>-1.384519</td>\n",
       "    </tr>\n",
       "  </tbody>\n",
       "</table>\n",
       "</div>"
      ],
      "text/plain": [
       "       Ser1      Ser2\n",
       "A -0.403892 -1.384519"
      ]
     },
     "execution_count": 85,
     "metadata": {},
     "output_type": "execute_result"
    }
   ],
   "source": [
    "df.loc[['A'],['Ser1','Ser2']]"
   ]
  },
  {
   "cell_type": "code",
   "execution_count": 88,
   "metadata": {},
   "outputs": [
    {
     "data": {
      "text/html": [
       "<div>\n",
       "<style scoped>\n",
       "    .dataframe tbody tr th:only-of-type {\n",
       "        vertical-align: middle;\n",
       "    }\n",
       "\n",
       "    .dataframe tbody tr th {\n",
       "        vertical-align: top;\n",
       "    }\n",
       "\n",
       "    .dataframe thead th {\n",
       "        text-align: right;\n",
       "    }\n",
       "</style>\n",
       "<table border=\"1\" class=\"dataframe\">\n",
       "  <thead>\n",
       "    <tr style=\"text-align: right;\">\n",
       "      <th></th>\n",
       "      <th>Ser1</th>\n",
       "      <th>Ser2</th>\n",
       "      <th>Ser3</th>\n",
       "      <th>Ser4</th>\n",
       "    </tr>\n",
       "  </thead>\n",
       "  <tbody>\n",
       "    <tr>\n",
       "      <th>A</th>\n",
       "      <td>True</td>\n",
       "      <td>True</td>\n",
       "      <td>False</td>\n",
       "      <td>False</td>\n",
       "    </tr>\n",
       "    <tr>\n",
       "      <th>B</th>\n",
       "      <td>True</td>\n",
       "      <td>False</td>\n",
       "      <td>False</td>\n",
       "      <td>False</td>\n",
       "    </tr>\n",
       "    <tr>\n",
       "      <th>C</th>\n",
       "      <td>False</td>\n",
       "      <td>False</td>\n",
       "      <td>True</td>\n",
       "      <td>False</td>\n",
       "    </tr>\n",
       "    <tr>\n",
       "      <th>D</th>\n",
       "      <td>False</td>\n",
       "      <td>True</td>\n",
       "      <td>False</td>\n",
       "      <td>True</td>\n",
       "    </tr>\n",
       "    <tr>\n",
       "      <th>E</th>\n",
       "      <td>False</td>\n",
       "      <td>False</td>\n",
       "      <td>True</td>\n",
       "      <td>False</td>\n",
       "    </tr>\n",
       "  </tbody>\n",
       "</table>\n",
       "</div>"
      ],
      "text/plain": [
       "    Ser1   Ser2   Ser3   Ser4\n",
       "A   True   True  False  False\n",
       "B   True  False  False  False\n",
       "C  False  False   True  False\n",
       "D  False   True  False   True\n",
       "E  False  False   True  False"
      ]
     },
     "execution_count": 88,
     "metadata": {},
     "output_type": "execute_result"
    }
   ],
   "source": [
    "df < 0"
   ]
  },
  {
   "cell_type": "code",
   "execution_count": 90,
   "metadata": {},
   "outputs": [
    {
     "data": {
      "text/html": [
       "<div>\n",
       "<style scoped>\n",
       "    .dataframe tbody tr th:only-of-type {\n",
       "        vertical-align: middle;\n",
       "    }\n",
       "\n",
       "    .dataframe tbody tr th {\n",
       "        vertical-align: top;\n",
       "    }\n",
       "\n",
       "    .dataframe thead th {\n",
       "        text-align: right;\n",
       "    }\n",
       "</style>\n",
       "<table border=\"1\" class=\"dataframe\">\n",
       "  <thead>\n",
       "    <tr style=\"text-align: right;\">\n",
       "      <th></th>\n",
       "      <th>Ser1</th>\n",
       "      <th>Ser2</th>\n",
       "      <th>Ser3</th>\n",
       "      <th>Ser4</th>\n",
       "    </tr>\n",
       "  </thead>\n",
       "  <tbody>\n",
       "    <tr>\n",
       "      <th>A</th>\n",
       "      <td>NaN</td>\n",
       "      <td>NaN</td>\n",
       "      <td>1.367235</td>\n",
       "      <td>1.217886</td>\n",
       "    </tr>\n",
       "    <tr>\n",
       "      <th>B</th>\n",
       "      <td>NaN</td>\n",
       "      <td>0.350888</td>\n",
       "      <td>0.381866</td>\n",
       "      <td>0.566275</td>\n",
       "    </tr>\n",
       "    <tr>\n",
       "      <th>C</th>\n",
       "      <td>0.204208</td>\n",
       "      <td>1.406696</td>\n",
       "      <td>NaN</td>\n",
       "      <td>1.040824</td>\n",
       "    </tr>\n",
       "    <tr>\n",
       "      <th>D</th>\n",
       "      <td>0.380472</td>\n",
       "      <td>NaN</td>\n",
       "      <td>1.173531</td>\n",
       "      <td>NaN</td>\n",
       "    </tr>\n",
       "    <tr>\n",
       "      <th>E</th>\n",
       "      <td>1.161521</td>\n",
       "      <td>0.386078</td>\n",
       "      <td>NaN</td>\n",
       "      <td>0.433093</td>\n",
       "    </tr>\n",
       "  </tbody>\n",
       "</table>\n",
       "</div>"
      ],
      "text/plain": [
       "       Ser1      Ser2      Ser3      Ser4\n",
       "A       NaN       NaN  1.367235  1.217886\n",
       "B       NaN  0.350888  0.381866  0.566275\n",
       "C  0.204208  1.406696       NaN  1.040824\n",
       "D  0.380472       NaN  1.173531       NaN\n",
       "E  1.161521  0.386078       NaN  0.433093"
      ]
     },
     "execution_count": 90,
     "metadata": {},
     "output_type": "execute_result"
    }
   ],
   "source": [
    "df[df > 0]"
   ]
  },
  {
   "cell_type": "code",
   "execution_count": 91,
   "metadata": {},
   "outputs": [
    {
     "data": {
      "text/plain": [
       "A    False\n",
       "B    False\n",
       "C     True\n",
       "D     True\n",
       "E     True\n",
       "Name: Ser1, dtype: bool"
      ]
     },
     "execution_count": 91,
     "metadata": {},
     "output_type": "execute_result"
    }
   ],
   "source": [
    "df['Ser1']>0"
   ]
  },
  {
   "cell_type": "code",
   "execution_count": 92,
   "metadata": {},
   "outputs": [
    {
     "data": {
      "text/plain": [
       "A   -0.403892\n",
       "B   -0.462005\n",
       "C    0.204208\n",
       "D    0.380472\n",
       "E    1.161521\n",
       "Name: Ser1, dtype: float64"
      ]
     },
     "execution_count": 92,
     "metadata": {},
     "output_type": "execute_result"
    }
   ],
   "source": [
    "df['Ser1']"
   ]
  },
  {
   "cell_type": "code",
   "execution_count": 93,
   "metadata": {},
   "outputs": [
    {
     "data": {
      "text/html": [
       "<div>\n",
       "<style scoped>\n",
       "    .dataframe tbody tr th:only-of-type {\n",
       "        vertical-align: middle;\n",
       "    }\n",
       "\n",
       "    .dataframe tbody tr th {\n",
       "        vertical-align: top;\n",
       "    }\n",
       "\n",
       "    .dataframe thead th {\n",
       "        text-align: right;\n",
       "    }\n",
       "</style>\n",
       "<table border=\"1\" class=\"dataframe\">\n",
       "  <thead>\n",
       "    <tr style=\"text-align: right;\">\n",
       "      <th></th>\n",
       "      <th>Ser1</th>\n",
       "      <th>Ser2</th>\n",
       "      <th>Ser3</th>\n",
       "      <th>Ser4</th>\n",
       "    </tr>\n",
       "  </thead>\n",
       "  <tbody>\n",
       "    <tr>\n",
       "      <th>C</th>\n",
       "      <td>0.204208</td>\n",
       "      <td>1.406696</td>\n",
       "      <td>-1.737960</td>\n",
       "      <td>1.040824</td>\n",
       "    </tr>\n",
       "    <tr>\n",
       "      <th>D</th>\n",
       "      <td>0.380472</td>\n",
       "      <td>-0.217135</td>\n",
       "      <td>1.173531</td>\n",
       "      <td>-2.343603</td>\n",
       "    </tr>\n",
       "    <tr>\n",
       "      <th>E</th>\n",
       "      <td>1.161521</td>\n",
       "      <td>0.386078</td>\n",
       "      <td>-1.133133</td>\n",
       "      <td>0.433093</td>\n",
       "    </tr>\n",
       "  </tbody>\n",
       "</table>\n",
       "</div>"
      ],
      "text/plain": [
       "       Ser1      Ser2      Ser3      Ser4\n",
       "C  0.204208  1.406696 -1.737960  1.040824\n",
       "D  0.380472 -0.217135  1.173531 -2.343603\n",
       "E  1.161521  0.386078 -1.133133  0.433093"
      ]
     },
     "execution_count": 93,
     "metadata": {},
     "output_type": "execute_result"
    }
   ],
   "source": [
    "df[df['Ser1']>0]#this will remove all rows that less than zeros and will not back with Nan"
   ]
  },
  {
   "cell_type": "code",
   "execution_count": 94,
   "metadata": {},
   "outputs": [
    {
     "data": {
      "text/html": [
       "<div>\n",
       "<style scoped>\n",
       "    .dataframe tbody tr th:only-of-type {\n",
       "        vertical-align: middle;\n",
       "    }\n",
       "\n",
       "    .dataframe tbody tr th {\n",
       "        vertical-align: top;\n",
       "    }\n",
       "\n",
       "    .dataframe thead th {\n",
       "        text-align: right;\n",
       "    }\n",
       "</style>\n",
       "<table border=\"1\" class=\"dataframe\">\n",
       "  <thead>\n",
       "    <tr style=\"text-align: right;\">\n",
       "      <th></th>\n",
       "      <th>Ser1</th>\n",
       "      <th>Ser2</th>\n",
       "      <th>Ser3</th>\n",
       "      <th>Ser4</th>\n",
       "    </tr>\n",
       "  </thead>\n",
       "  <tbody>\n",
       "    <tr>\n",
       "      <th>A</th>\n",
       "      <td>-0.403892</td>\n",
       "      <td>-1.384519</td>\n",
       "      <td>1.367235</td>\n",
       "      <td>1.217886</td>\n",
       "    </tr>\n",
       "    <tr>\n",
       "      <th>B</th>\n",
       "      <td>-0.462005</td>\n",
       "      <td>0.350888</td>\n",
       "      <td>0.381866</td>\n",
       "      <td>0.566275</td>\n",
       "    </tr>\n",
       "    <tr>\n",
       "      <th>C</th>\n",
       "      <td>0.204208</td>\n",
       "      <td>1.406696</td>\n",
       "      <td>-1.737960</td>\n",
       "      <td>1.040824</td>\n",
       "    </tr>\n",
       "    <tr>\n",
       "      <th>D</th>\n",
       "      <td>0.380472</td>\n",
       "      <td>-0.217135</td>\n",
       "      <td>1.173531</td>\n",
       "      <td>-2.343603</td>\n",
       "    </tr>\n",
       "    <tr>\n",
       "      <th>E</th>\n",
       "      <td>1.161521</td>\n",
       "      <td>0.386078</td>\n",
       "      <td>-1.133133</td>\n",
       "      <td>0.433093</td>\n",
       "    </tr>\n",
       "  </tbody>\n",
       "</table>\n",
       "</div>"
      ],
      "text/plain": [
       "       Ser1      Ser2      Ser3      Ser4\n",
       "A -0.403892 -1.384519  1.367235  1.217886\n",
       "B -0.462005  0.350888  0.381866  0.566275\n",
       "C  0.204208  1.406696 -1.737960  1.040824\n",
       "D  0.380472 -0.217135  1.173531 -2.343603\n",
       "E  1.161521  0.386078 -1.133133  0.433093"
      ]
     },
     "execution_count": 94,
     "metadata": {},
     "output_type": "execute_result"
    }
   ],
   "source": [
    "df"
   ]
  },
  {
   "cell_type": "code",
   "execution_count": 96,
   "metadata": {},
   "outputs": [
    {
     "data": {
      "text/html": [
       "<div>\n",
       "<style scoped>\n",
       "    .dataframe tbody tr th:only-of-type {\n",
       "        vertical-align: middle;\n",
       "    }\n",
       "\n",
       "    .dataframe tbody tr th {\n",
       "        vertical-align: top;\n",
       "    }\n",
       "\n",
       "    .dataframe thead th {\n",
       "        text-align: right;\n",
       "    }\n",
       "</style>\n",
       "<table border=\"1\" class=\"dataframe\">\n",
       "  <thead>\n",
       "    <tr style=\"text-align: right;\">\n",
       "      <th></th>\n",
       "      <th>Ser1</th>\n",
       "      <th>Ser2</th>\n",
       "      <th>Ser3</th>\n",
       "      <th>Ser4</th>\n",
       "    </tr>\n",
       "  </thead>\n",
       "  <tbody>\n",
       "    <tr>\n",
       "      <th>D</th>\n",
       "      <td>0.380472</td>\n",
       "      <td>-0.217135</td>\n",
       "      <td>1.173531</td>\n",
       "      <td>-2.343603</td>\n",
       "    </tr>\n",
       "  </tbody>\n",
       "</table>\n",
       "</div>"
      ],
      "text/plain": [
       "       Ser1      Ser2      Ser3      Ser4\n",
       "D  0.380472 -0.217135  1.173531 -2.343603"
      ]
     },
     "execution_count": 96,
     "metadata": {},
     "output_type": "execute_result"
    }
   ],
   "source": [
    "df[df['Ser4']<0]"
   ]
  },
  {
   "cell_type": "code",
   "execution_count": 99,
   "metadata": {},
   "outputs": [
    {
     "data": {
      "text/plain": [
       "C    1.406696\n",
       "D   -0.217135\n",
       "E    0.386078\n",
       "Name: Ser2, dtype: float64"
      ]
     },
     "execution_count": 99,
     "metadata": {},
     "output_type": "execute_result"
    }
   ],
   "source": [
    "df[df['Ser1']>0]['Ser2']"
   ]
  },
  {
   "cell_type": "code",
   "execution_count": 103,
   "metadata": {},
   "outputs": [
    {
     "data": {
      "text/html": [
       "<div>\n",
       "<style scoped>\n",
       "    .dataframe tbody tr th:only-of-type {\n",
       "        vertical-align: middle;\n",
       "    }\n",
       "\n",
       "    .dataframe tbody tr th {\n",
       "        vertical-align: top;\n",
       "    }\n",
       "\n",
       "    .dataframe thead th {\n",
       "        text-align: right;\n",
       "    }\n",
       "</style>\n",
       "<table border=\"1\" class=\"dataframe\">\n",
       "  <thead>\n",
       "    <tr style=\"text-align: right;\">\n",
       "      <th></th>\n",
       "      <th>Ser1</th>\n",
       "      <th>Ser2</th>\n",
       "      <th>Ser3</th>\n",
       "      <th>Ser4</th>\n",
       "    </tr>\n",
       "  </thead>\n",
       "  <tbody>\n",
       "    <tr>\n",
       "      <th>C</th>\n",
       "      <td>0.204208</td>\n",
       "      <td>1.406696</td>\n",
       "      <td>-1.737960</td>\n",
       "      <td>1.040824</td>\n",
       "    </tr>\n",
       "    <tr>\n",
       "      <th>D</th>\n",
       "      <td>0.380472</td>\n",
       "      <td>-0.217135</td>\n",
       "      <td>1.173531</td>\n",
       "      <td>-2.343603</td>\n",
       "    </tr>\n",
       "    <tr>\n",
       "      <th>E</th>\n",
       "      <td>1.161521</td>\n",
       "      <td>0.386078</td>\n",
       "      <td>-1.133133</td>\n",
       "      <td>0.433093</td>\n",
       "    </tr>\n",
       "  </tbody>\n",
       "</table>\n",
       "</div>"
      ],
      "text/plain": [
       "       Ser1      Ser2      Ser3      Ser4\n",
       "C  0.204208  1.406696 -1.737960  1.040824\n",
       "D  0.380472 -0.217135  1.173531 -2.343603\n",
       "E  1.161521  0.386078 -1.133133  0.433093"
      ]
     },
     "execution_count": 103,
     "metadata": {},
     "output_type": "execute_result"
    }
   ],
   "source": [
    "df[df['Ser1']>0]"
   ]
  },
  {
   "cell_type": "code",
   "execution_count": 104,
   "metadata": {},
   "outputs": [
    {
     "data": {
      "text/plain": [
       "A   -0.403892\n",
       "B   -0.462005\n",
       "C    0.204208\n",
       "D    0.380472\n",
       "E    1.161521\n",
       "Name: Ser1, dtype: float64"
      ]
     },
     "execution_count": 104,
     "metadata": {},
     "output_type": "execute_result"
    }
   ],
   "source": [
    "df['Ser1']"
   ]
  },
  {
   "cell_type": "code",
   "execution_count": 105,
   "metadata": {},
   "outputs": [
    {
     "data": {
      "text/html": [
       "<div>\n",
       "<style scoped>\n",
       "    .dataframe tbody tr th:only-of-type {\n",
       "        vertical-align: middle;\n",
       "    }\n",
       "\n",
       "    .dataframe tbody tr th {\n",
       "        vertical-align: top;\n",
       "    }\n",
       "\n",
       "    .dataframe thead th {\n",
       "        text-align: right;\n",
       "    }\n",
       "</style>\n",
       "<table border=\"1\" class=\"dataframe\">\n",
       "  <thead>\n",
       "    <tr style=\"text-align: right;\">\n",
       "      <th></th>\n",
       "      <th>Ser1</th>\n",
       "      <th>Ser2</th>\n",
       "      <th>Ser3</th>\n",
       "      <th>Ser4</th>\n",
       "    </tr>\n",
       "  </thead>\n",
       "  <tbody>\n",
       "    <tr>\n",
       "      <th>A</th>\n",
       "      <td>-0.403892</td>\n",
       "      <td>-1.384519</td>\n",
       "      <td>1.367235</td>\n",
       "      <td>1.217886</td>\n",
       "    </tr>\n",
       "    <tr>\n",
       "      <th>B</th>\n",
       "      <td>-0.462005</td>\n",
       "      <td>0.350888</td>\n",
       "      <td>0.381866</td>\n",
       "      <td>0.566275</td>\n",
       "    </tr>\n",
       "    <tr>\n",
       "      <th>C</th>\n",
       "      <td>0.204208</td>\n",
       "      <td>1.406696</td>\n",
       "      <td>-1.737960</td>\n",
       "      <td>1.040824</td>\n",
       "    </tr>\n",
       "    <tr>\n",
       "      <th>D</th>\n",
       "      <td>0.380472</td>\n",
       "      <td>-0.217135</td>\n",
       "      <td>1.173531</td>\n",
       "      <td>-2.343603</td>\n",
       "    </tr>\n",
       "    <tr>\n",
       "      <th>E</th>\n",
       "      <td>1.161521</td>\n",
       "      <td>0.386078</td>\n",
       "      <td>-1.133133</td>\n",
       "      <td>0.433093</td>\n",
       "    </tr>\n",
       "  </tbody>\n",
       "</table>\n",
       "</div>"
      ],
      "text/plain": [
       "       Ser1      Ser2      Ser3      Ser4\n",
       "A -0.403892 -1.384519  1.367235  1.217886\n",
       "B -0.462005  0.350888  0.381866  0.566275\n",
       "C  0.204208  1.406696 -1.737960  1.040824\n",
       "D  0.380472 -0.217135  1.173531 -2.343603\n",
       "E  1.161521  0.386078 -1.133133  0.433093"
      ]
     },
     "execution_count": 105,
     "metadata": {},
     "output_type": "execute_result"
    }
   ],
   "source": [
    "df"
   ]
  },
  {
   "cell_type": "code",
   "execution_count": 106,
   "metadata": {},
   "outputs": [
    {
     "ename": "ValueError",
     "evalue": "The truth value of a Series is ambiguous. Use a.empty, a.bool(), a.item(), a.any() or a.all().",
     "output_type": "error",
     "traceback": [
      "\u001b[0;31m---------------------------------------------------------------------------\u001b[0m",
      "\u001b[0;31mValueError\u001b[0m                                Traceback (most recent call last)",
      "\u001b[0;32m<ipython-input-106-affa3c086daf>\u001b[0m in \u001b[0;36m<module>\u001b[0;34m()\u001b[0m\n\u001b[0;32m----> 1\u001b[0;31m \u001b[0mdf\u001b[0m\u001b[0;34m[\u001b[0m\u001b[0;34m(\u001b[0m\u001b[0mdf\u001b[0m\u001b[0;34m[\u001b[0m\u001b[0;34m'Ser1'\u001b[0m\u001b[0;34m]\u001b[0m\u001b[0;34m>\u001b[0m\u001b[0;36m0\u001b[0m\u001b[0;34m)\u001b[0m \u001b[0;32mand\u001b[0m \u001b[0;34m(\u001b[0m\u001b[0mdf\u001b[0m\u001b[0;34m[\u001b[0m\u001b[0;34m'Ser2'\u001b[0m\u001b[0;34m]\u001b[0m\u001b[0;34m>\u001b[0m\u001b[0;36m0\u001b[0m\u001b[0;34m)\u001b[0m\u001b[0;34m]\u001b[0m\u001b[0;34m\u001b[0m\u001b[0m\n\u001b[0m",
      "\u001b[0;32m~/.local/lib/python3.5/site-packages/pandas/core/generic.py\u001b[0m in \u001b[0;36m__nonzero__\u001b[0;34m(self)\u001b[0m\n\u001b[1;32m   1574\u001b[0m         raise ValueError(\"The truth value of a {0} is ambiguous. \"\n\u001b[1;32m   1575\u001b[0m                          \u001b[0;34m\"Use a.empty, a.bool(), a.item(), a.any() or a.all().\"\u001b[0m\u001b[0;34m\u001b[0m\u001b[0m\n\u001b[0;32m-> 1576\u001b[0;31m                          .format(self.__class__.__name__))\n\u001b[0m\u001b[1;32m   1577\u001b[0m \u001b[0;34m\u001b[0m\u001b[0m\n\u001b[1;32m   1578\u001b[0m     \u001b[0m__bool__\u001b[0m \u001b[0;34m=\u001b[0m \u001b[0m__nonzero__\u001b[0m\u001b[0;34m\u001b[0m\u001b[0m\n",
      "\u001b[0;31mValueError\u001b[0m: The truth value of a Series is ambiguous. Use a.empty, a.bool(), a.item(), a.any() or a.all()."
     ]
    }
   ],
   "source": [
    "df[(df['Ser1']>0) and (df['Ser2']>0)]# will raise error (The truth value of a Series is ambiguous)\n",
    "#and the right way is that we use &"
   ]
  },
  {
   "cell_type": "code",
   "execution_count": 108,
   "metadata": {},
   "outputs": [
    {
     "data": {
      "text/html": [
       "<div>\n",
       "<style scoped>\n",
       "    .dataframe tbody tr th:only-of-type {\n",
       "        vertical-align: middle;\n",
       "    }\n",
       "\n",
       "    .dataframe tbody tr th {\n",
       "        vertical-align: top;\n",
       "    }\n",
       "\n",
       "    .dataframe thead th {\n",
       "        text-align: right;\n",
       "    }\n",
       "</style>\n",
       "<table border=\"1\" class=\"dataframe\">\n",
       "  <thead>\n",
       "    <tr style=\"text-align: right;\">\n",
       "      <th></th>\n",
       "      <th>Ser1</th>\n",
       "      <th>Ser2</th>\n",
       "      <th>Ser3</th>\n",
       "      <th>Ser4</th>\n",
       "    </tr>\n",
       "  </thead>\n",
       "  <tbody>\n",
       "    <tr>\n",
       "      <th>D</th>\n",
       "      <td>0.380472</td>\n",
       "      <td>-0.217135</td>\n",
       "      <td>1.173531</td>\n",
       "      <td>-2.343603</td>\n",
       "    </tr>\n",
       "  </tbody>\n",
       "</table>\n",
       "</div>"
      ],
      "text/plain": [
       "       Ser1      Ser2      Ser3      Ser4\n",
       "D  0.380472 -0.217135  1.173531 -2.343603"
      ]
     },
     "execution_count": 108,
     "metadata": {},
     "output_type": "execute_result"
    }
   ],
   "source": [
    "df[(df['Ser1']>0) & (df['Ser3']>0)]"
   ]
  },
  {
   "cell_type": "code",
   "execution_count": 109,
   "metadata": {},
   "outputs": [
    {
     "data": {
      "text/html": [
       "<div>\n",
       "<style scoped>\n",
       "    .dataframe tbody tr th:only-of-type {\n",
       "        vertical-align: middle;\n",
       "    }\n",
       "\n",
       "    .dataframe tbody tr th {\n",
       "        vertical-align: top;\n",
       "    }\n",
       "\n",
       "    .dataframe thead th {\n",
       "        text-align: right;\n",
       "    }\n",
       "</style>\n",
       "<table border=\"1\" class=\"dataframe\">\n",
       "  <thead>\n",
       "    <tr style=\"text-align: right;\">\n",
       "      <th></th>\n",
       "      <th>Ser1</th>\n",
       "      <th>Ser2</th>\n",
       "      <th>Ser3</th>\n",
       "      <th>Ser4</th>\n",
       "    </tr>\n",
       "  </thead>\n",
       "  <tbody>\n",
       "    <tr>\n",
       "      <th>A</th>\n",
       "      <td>-0.403892</td>\n",
       "      <td>-1.384519</td>\n",
       "      <td>1.367235</td>\n",
       "      <td>1.217886</td>\n",
       "    </tr>\n",
       "    <tr>\n",
       "      <th>B</th>\n",
       "      <td>-0.462005</td>\n",
       "      <td>0.350888</td>\n",
       "      <td>0.381866</td>\n",
       "      <td>0.566275</td>\n",
       "    </tr>\n",
       "    <tr>\n",
       "      <th>C</th>\n",
       "      <td>0.204208</td>\n",
       "      <td>1.406696</td>\n",
       "      <td>-1.737960</td>\n",
       "      <td>1.040824</td>\n",
       "    </tr>\n",
       "    <tr>\n",
       "      <th>D</th>\n",
       "      <td>0.380472</td>\n",
       "      <td>-0.217135</td>\n",
       "      <td>1.173531</td>\n",
       "      <td>-2.343603</td>\n",
       "    </tr>\n",
       "    <tr>\n",
       "      <th>E</th>\n",
       "      <td>1.161521</td>\n",
       "      <td>0.386078</td>\n",
       "      <td>-1.133133</td>\n",
       "      <td>0.433093</td>\n",
       "    </tr>\n",
       "  </tbody>\n",
       "</table>\n",
       "</div>"
      ],
      "text/plain": [
       "       Ser1      Ser2      Ser3      Ser4\n",
       "A -0.403892 -1.384519  1.367235  1.217886\n",
       "B -0.462005  0.350888  0.381866  0.566275\n",
       "C  0.204208  1.406696 -1.737960  1.040824\n",
       "D  0.380472 -0.217135  1.173531 -2.343603\n",
       "E  1.161521  0.386078 -1.133133  0.433093"
      ]
     },
     "execution_count": 109,
     "metadata": {},
     "output_type": "execute_result"
    }
   ],
   "source": [
    "df"
   ]
  },
  {
   "cell_type": "code",
   "execution_count": 110,
   "metadata": {},
   "outputs": [
    {
     "data": {
      "text/html": [
       "<div>\n",
       "<style scoped>\n",
       "    .dataframe tbody tr th:only-of-type {\n",
       "        vertical-align: middle;\n",
       "    }\n",
       "\n",
       "    .dataframe tbody tr th {\n",
       "        vertical-align: top;\n",
       "    }\n",
       "\n",
       "    .dataframe thead th {\n",
       "        text-align: right;\n",
       "    }\n",
       "</style>\n",
       "<table border=\"1\" class=\"dataframe\">\n",
       "  <thead>\n",
       "    <tr style=\"text-align: right;\">\n",
       "      <th></th>\n",
       "      <th>Ser1</th>\n",
       "      <th>Ser2</th>\n",
       "      <th>Ser3</th>\n",
       "      <th>Ser4</th>\n",
       "    </tr>\n",
       "  </thead>\n",
       "  <tbody>\n",
       "    <tr>\n",
       "      <th>A</th>\n",
       "      <td>-0.403892</td>\n",
       "      <td>-1.384519</td>\n",
       "      <td>1.367235</td>\n",
       "      <td>1.217886</td>\n",
       "    </tr>\n",
       "    <tr>\n",
       "      <th>B</th>\n",
       "      <td>-0.462005</td>\n",
       "      <td>0.350888</td>\n",
       "      <td>0.381866</td>\n",
       "      <td>0.566275</td>\n",
       "    </tr>\n",
       "    <tr>\n",
       "      <th>C</th>\n",
       "      <td>0.204208</td>\n",
       "      <td>1.406696</td>\n",
       "      <td>-1.737960</td>\n",
       "      <td>1.040824</td>\n",
       "    </tr>\n",
       "    <tr>\n",
       "      <th>D</th>\n",
       "      <td>0.380472</td>\n",
       "      <td>-0.217135</td>\n",
       "      <td>1.173531</td>\n",
       "      <td>-2.343603</td>\n",
       "    </tr>\n",
       "    <tr>\n",
       "      <th>E</th>\n",
       "      <td>1.161521</td>\n",
       "      <td>0.386078</td>\n",
       "      <td>-1.133133</td>\n",
       "      <td>0.433093</td>\n",
       "    </tr>\n",
       "  </tbody>\n",
       "</table>\n",
       "</div>"
      ],
      "text/plain": [
       "       Ser1      Ser2      Ser3      Ser4\n",
       "A -0.403892 -1.384519  1.367235  1.217886\n",
       "B -0.462005  0.350888  0.381866  0.566275\n",
       "C  0.204208  1.406696 -1.737960  1.040824\n",
       "D  0.380472 -0.217135  1.173531 -2.343603\n",
       "E  1.161521  0.386078 -1.133133  0.433093"
      ]
     },
     "execution_count": 110,
     "metadata": {},
     "output_type": "execute_result"
    }
   ],
   "source": [
    "df[(df['Ser1']>0) | (df['Ser3']>0)]"
   ]
  },
  {
   "cell_type": "code",
   "execution_count": 111,
   "metadata": {},
   "outputs": [
    {
     "data": {
      "text/html": [
       "<div>\n",
       "<style scoped>\n",
       "    .dataframe tbody tr th:only-of-type {\n",
       "        vertical-align: middle;\n",
       "    }\n",
       "\n",
       "    .dataframe tbody tr th {\n",
       "        vertical-align: top;\n",
       "    }\n",
       "\n",
       "    .dataframe thead th {\n",
       "        text-align: right;\n",
       "    }\n",
       "</style>\n",
       "<table border=\"1\" class=\"dataframe\">\n",
       "  <thead>\n",
       "    <tr style=\"text-align: right;\">\n",
       "      <th></th>\n",
       "      <th>index</th>\n",
       "      <th>Ser1</th>\n",
       "      <th>Ser2</th>\n",
       "      <th>Ser3</th>\n",
       "      <th>Ser4</th>\n",
       "    </tr>\n",
       "  </thead>\n",
       "  <tbody>\n",
       "    <tr>\n",
       "      <th>0</th>\n",
       "      <td>A</td>\n",
       "      <td>-0.403892</td>\n",
       "      <td>-1.384519</td>\n",
       "      <td>1.367235</td>\n",
       "      <td>1.217886</td>\n",
       "    </tr>\n",
       "    <tr>\n",
       "      <th>1</th>\n",
       "      <td>B</td>\n",
       "      <td>-0.462005</td>\n",
       "      <td>0.350888</td>\n",
       "      <td>0.381866</td>\n",
       "      <td>0.566275</td>\n",
       "    </tr>\n",
       "    <tr>\n",
       "      <th>2</th>\n",
       "      <td>C</td>\n",
       "      <td>0.204208</td>\n",
       "      <td>1.406696</td>\n",
       "      <td>-1.737960</td>\n",
       "      <td>1.040824</td>\n",
       "    </tr>\n",
       "    <tr>\n",
       "      <th>3</th>\n",
       "      <td>D</td>\n",
       "      <td>0.380472</td>\n",
       "      <td>-0.217135</td>\n",
       "      <td>1.173531</td>\n",
       "      <td>-2.343603</td>\n",
       "    </tr>\n",
       "    <tr>\n",
       "      <th>4</th>\n",
       "      <td>E</td>\n",
       "      <td>1.161521</td>\n",
       "      <td>0.386078</td>\n",
       "      <td>-1.133133</td>\n",
       "      <td>0.433093</td>\n",
       "    </tr>\n",
       "  </tbody>\n",
       "</table>\n",
       "</div>"
      ],
      "text/plain": [
       "  index      Ser1      Ser2      Ser3      Ser4\n",
       "0     A -0.403892 -1.384519  1.367235  1.217886\n",
       "1     B -0.462005  0.350888  0.381866  0.566275\n",
       "2     C  0.204208  1.406696 -1.737960  1.040824\n",
       "3     D  0.380472 -0.217135  1.173531 -2.343603\n",
       "4     E  1.161521  0.386078 -1.133133  0.433093"
      ]
     },
     "execution_count": 111,
     "metadata": {},
     "output_type": "execute_result"
    }
   ],
   "source": [
    "df.reset_index()#to reset index to default like 0 , 1 ,0 to run it use inplace=True"
   ]
  },
  {
   "cell_type": "code",
   "execution_count": 112,
   "metadata": {},
   "outputs": [],
   "source": [
    "newind = 'ab ah be da mo'.split()"
   ]
  },
  {
   "cell_type": "code",
   "execution_count": 113,
   "metadata": {},
   "outputs": [],
   "source": [
    "df['names']=newind"
   ]
  },
  {
   "cell_type": "code",
   "execution_count": 114,
   "metadata": {},
   "outputs": [
    {
     "data": {
      "text/html": [
       "<div>\n",
       "<style scoped>\n",
       "    .dataframe tbody tr th:only-of-type {\n",
       "        vertical-align: middle;\n",
       "    }\n",
       "\n",
       "    .dataframe tbody tr th {\n",
       "        vertical-align: top;\n",
       "    }\n",
       "\n",
       "    .dataframe thead th {\n",
       "        text-align: right;\n",
       "    }\n",
       "</style>\n",
       "<table border=\"1\" class=\"dataframe\">\n",
       "  <thead>\n",
       "    <tr style=\"text-align: right;\">\n",
       "      <th></th>\n",
       "      <th>Ser1</th>\n",
       "      <th>Ser2</th>\n",
       "      <th>Ser3</th>\n",
       "      <th>Ser4</th>\n",
       "      <th>names</th>\n",
       "    </tr>\n",
       "  </thead>\n",
       "  <tbody>\n",
       "    <tr>\n",
       "      <th>A</th>\n",
       "      <td>-0.403892</td>\n",
       "      <td>-1.384519</td>\n",
       "      <td>1.367235</td>\n",
       "      <td>1.217886</td>\n",
       "      <td>ab</td>\n",
       "    </tr>\n",
       "    <tr>\n",
       "      <th>B</th>\n",
       "      <td>-0.462005</td>\n",
       "      <td>0.350888</td>\n",
       "      <td>0.381866</td>\n",
       "      <td>0.566275</td>\n",
       "      <td>ah</td>\n",
       "    </tr>\n",
       "    <tr>\n",
       "      <th>C</th>\n",
       "      <td>0.204208</td>\n",
       "      <td>1.406696</td>\n",
       "      <td>-1.737960</td>\n",
       "      <td>1.040824</td>\n",
       "      <td>be</td>\n",
       "    </tr>\n",
       "    <tr>\n",
       "      <th>D</th>\n",
       "      <td>0.380472</td>\n",
       "      <td>-0.217135</td>\n",
       "      <td>1.173531</td>\n",
       "      <td>-2.343603</td>\n",
       "      <td>da</td>\n",
       "    </tr>\n",
       "    <tr>\n",
       "      <th>E</th>\n",
       "      <td>1.161521</td>\n",
       "      <td>0.386078</td>\n",
       "      <td>-1.133133</td>\n",
       "      <td>0.433093</td>\n",
       "      <td>mo</td>\n",
       "    </tr>\n",
       "  </tbody>\n",
       "</table>\n",
       "</div>"
      ],
      "text/plain": [
       "       Ser1      Ser2      Ser3      Ser4 names\n",
       "A -0.403892 -1.384519  1.367235  1.217886    ab\n",
       "B -0.462005  0.350888  0.381866  0.566275    ah\n",
       "C  0.204208  1.406696 -1.737960  1.040824    be\n",
       "D  0.380472 -0.217135  1.173531 -2.343603    da\n",
       "E  1.161521  0.386078 -1.133133  0.433093    mo"
      ]
     },
     "execution_count": 114,
     "metadata": {},
     "output_type": "execute_result"
    }
   ],
   "source": [
    "df"
   ]
  },
  {
   "cell_type": "code",
   "execution_count": 125,
   "metadata": {},
   "outputs": [
    {
     "data": {
      "text/plain": [
       "Ser1   -0.403892\n",
       "Ser2   -1.384519\n",
       "Ser3    1.367235\n",
       "Ser4    1.217886\n",
       "Name: ab, dtype: float64"
      ]
     },
     "execution_count": 125,
     "metadata": {},
     "output_type": "execute_result"
    }
   ],
   "source": [
    "df.set_index('names').loc['ab']"
   ]
  },
  {
   "cell_type": "code",
   "execution_count": 126,
   "metadata": {},
   "outputs": [
    {
     "data": {
      "text/html": [
       "<div>\n",
       "<style scoped>\n",
       "    .dataframe tbody tr th:only-of-type {\n",
       "        vertical-align: middle;\n",
       "    }\n",
       "\n",
       "    .dataframe tbody tr th {\n",
       "        vertical-align: top;\n",
       "    }\n",
       "\n",
       "    .dataframe thead th {\n",
       "        text-align: right;\n",
       "    }\n",
       "</style>\n",
       "<table border=\"1\" class=\"dataframe\">\n",
       "  <thead>\n",
       "    <tr style=\"text-align: right;\">\n",
       "      <th></th>\n",
       "      <th>Ser1</th>\n",
       "      <th>Ser2</th>\n",
       "      <th>Ser3</th>\n",
       "      <th>Ser4</th>\n",
       "    </tr>\n",
       "    <tr>\n",
       "      <th>names</th>\n",
       "      <th></th>\n",
       "      <th></th>\n",
       "      <th></th>\n",
       "      <th></th>\n",
       "    </tr>\n",
       "  </thead>\n",
       "  <tbody>\n",
       "    <tr>\n",
       "      <th>ab</th>\n",
       "      <td>-0.403892</td>\n",
       "      <td>-1.384519</td>\n",
       "      <td>1.367235</td>\n",
       "      <td>1.217886</td>\n",
       "    </tr>\n",
       "    <tr>\n",
       "      <th>ah</th>\n",
       "      <td>-0.462005</td>\n",
       "      <td>0.350888</td>\n",
       "      <td>0.381866</td>\n",
       "      <td>0.566275</td>\n",
       "    </tr>\n",
       "    <tr>\n",
       "      <th>be</th>\n",
       "      <td>0.204208</td>\n",
       "      <td>1.406696</td>\n",
       "      <td>-1.737960</td>\n",
       "      <td>1.040824</td>\n",
       "    </tr>\n",
       "    <tr>\n",
       "      <th>da</th>\n",
       "      <td>0.380472</td>\n",
       "      <td>-0.217135</td>\n",
       "      <td>1.173531</td>\n",
       "      <td>-2.343603</td>\n",
       "    </tr>\n",
       "    <tr>\n",
       "      <th>mo</th>\n",
       "      <td>1.161521</td>\n",
       "      <td>0.386078</td>\n",
       "      <td>-1.133133</td>\n",
       "      <td>0.433093</td>\n",
       "    </tr>\n",
       "  </tbody>\n",
       "</table>\n",
       "</div>"
      ],
      "text/plain": [
       "           Ser1      Ser2      Ser3      Ser4\n",
       "names                                        \n",
       "ab    -0.403892 -1.384519  1.367235  1.217886\n",
       "ah    -0.462005  0.350888  0.381866  0.566275\n",
       "be     0.204208  1.406696 -1.737960  1.040824\n",
       "da     0.380472 -0.217135  1.173531 -2.343603\n",
       "mo     1.161521  0.386078 -1.133133  0.433093"
      ]
     },
     "execution_count": 126,
     "metadata": {},
     "output_type": "execute_result"
    }
   ],
   "source": [
    "df.set_index('names')"
   ]
  },
  {
   "cell_type": "code",
   "execution_count": null,
   "metadata": {},
   "outputs": [],
   "source": []
  }
 ],
 "metadata": {
  "kernelspec": {
   "display_name": "Python 3",
   "language": "python",
   "name": "python3"
  },
  "language_info": {
   "codemirror_mode": {
    "name": "ipython",
    "version": 3
   },
   "file_extension": ".py",
   "mimetype": "text/x-python",
   "name": "python",
   "nbconvert_exporter": "python",
   "pygments_lexer": "ipython3",
   "version": "3.5.2"
  }
 },
 "nbformat": 4,
 "nbformat_minor": 2
}
